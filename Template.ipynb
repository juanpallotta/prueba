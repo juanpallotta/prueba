{
 "cells": [
  {
   "cell_type": "markdown",
   "metadata": {
    "id": "KNj78DFXqYxV"
   },
   "source": [
    "# **Instalación y carga de librerias**"
   ]
  },
  {
   "cell_type": "code",
   "execution_count": null,
   "metadata": {
    "executionInfo": {
     "elapsed": 41,
     "status": "ok",
     "timestamp": 1756380993669,
     "user": {
      "displayName": "Maria Laura Molina",
      "userId": "13062439045368532490"
     },
     "user_tz": 180
    },
    "id": "InLcGCEMsluR"
   },
   "outputs": [],
   "source": [
    "import sys\n",
    "import os\n",
    "\n",
    "import aeraod"
   ]
  },
  {
   "cell_type": "markdown",
   "metadata": {
    "id": "fn2jcPLNqr2M"
   },
   "source": [
    "# **Bajada de datos de AERONET**"
   ]
  },
  {
   "cell_type": "code",
   "execution_count": 3,
   "metadata": {
    "colab": {
     "base_uri": "https://localhost:8080/"
    },
    "executionInfo": {
     "elapsed": 346,
     "status": "ok",
     "timestamp": 1756381003268,
     "user": {
      "displayName": "Maria Laura Molina",
      "userId": "13062439045368532490"
     },
     "user_tz": 180
    },
    "id": "gc3u5aaiq0TT",
    "outputId": "198d1f1d-bd16-4a1b-cc21-32d5d708f681"
   },
   "outputs": [
    {
     "name": "stdout",
     "output_type": "stream",
     "text": [
      "\n",
      "Downloading data...\n",
      "\n",
      "Downloaded data to: /content/data_down/CEILAP-BA_2022-09-08_to_2022-09-08_AOD10_All_points.txt\n"
     ]
    }
   ],
   "source": [
    "# Defino los argumentos que toma el script aeraod.py\n",
    "args = {'site_name'    : \"CEILAP-BA\", # ie. \"CEILAP-BA\"   # Specify the site/station name\n",
    "        'date_initial' : \"2022-09-08\", # ie. \"2022-09-08\"  # Specify the start date in 'YYYY-MM-DD' format\n",
    "        'date_final'   : \"2022-09-08\", # ie. \"2022-09-08\"  # Specify the end date in 'YYYY-MM-DD' format\n",
    "        'data_type'    : \"Aerosol Optical Depth (AOD) with Precipitable Water and Angstrom Parameter\", # ie. \"Aerosol Optical Depth (AOD) with Precipitable Water and Angstrom Parameter\" or \"Total Optical Depth based on AOD Level*\"\n",
    "        'data_format'  : \"All points\", # ie. \"All points\"  # Choose the data format: 'All points', 'daily averages', or 'monthly averages'\n",
    "        'aod_level'    : \"10\", # ie. \"10\"          #  Choose the AOD level: '10' for 1.0, '15' for 1.5, or '20' for 2.0\n",
    "        'download_folder' : \"/content/data_down/\"  # Specify the folder to save downloaded data\n",
    "         }\n",
    "\n",
    "result = aeraod.download_aeronet_aod( args['site_name'], args['date_initial'], args['date_final'],\n",
    "                               args['data_type'], args['data_format'], args['aod_level'], args['download_folder']\n",
    "                              )"
   ]
  },
  {
   "cell_type": "markdown",
   "metadata": {
    "id": "zoZ59jUQq0xb"
   },
   "source": [
    "# **Lectura de datos**"
   ]
  },
  {
   "cell_type": "code",
   "execution_count": null,
   "metadata": {
    "id": "H-Kd-CGwq-yD"
   },
   "outputs": [],
   "source": []
  },
  {
   "cell_type": "markdown",
   "metadata": {
    "id": "o4M3pqZCq_OL"
   },
   "source": [
    "# **Creacion de figuras**"
   ]
  },
  {
   "cell_type": "code",
   "execution_count": null,
   "metadata": {
    "id": "1rnCOHX2rDZu"
   },
   "outputs": [],
   "source": []
  }
 ],
 "metadata": {
  "colab": {
   "provenance": []
  },
  "kernelspec": {
   "display_name": "Python 3",
   "name": "python3"
  },
  "language_info": {
   "name": "python"
  }
 },
 "nbformat": 4,
 "nbformat_minor": 0
}
